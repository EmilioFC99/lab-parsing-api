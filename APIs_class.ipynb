{
 "cells": [
  {
   "cell_type": "code",
   "execution_count": 46,
   "metadata": {},
   "outputs": [],
   "source": [
    "import requests\n",
    "import base64\n",
    "from urllib.parse import urlencode\n",
    "import pandas as pd\n",
    "import numpy as np"
   ]
  },
  {
   "cell_type": "code",
   "execution_count": 18,
   "metadata": {},
   "outputs": [],
   "source": [
    "client_id = 'afc4177936d444fcb781e7cd81a16529'\n",
    "client_secret = '4e63ad5206a64adab5a5a6ab46d9d831'"
   ]
  },
  {
   "cell_type": "code",
   "execution_count": 19,
   "metadata": {},
   "outputs": [],
   "source": [
    "client_creds = f'{client_id}:{client_secret}'"
   ]
  },
  {
   "cell_type": "code",
   "execution_count": 20,
   "metadata": {},
   "outputs": [
    {
     "data": {
      "text/plain": [
       "b'YWZjNDE3NzkzNmQ0NDRmY2I3ODFlN2NkODFhMTY1Mjk6NGU2M2FkNTIwNmE2NGFkYWI1YTVhNmFiNDZkOWQ4MzE='"
      ]
     },
     "execution_count": 20,
     "metadata": {},
     "output_type": "execute_result"
    }
   ],
   "source": [
    "clients_creds_base64 = base64.b64encode(client_creds.encode())\n",
    "clients_creds_base64"
   ]
  },
  {
   "cell_type": "markdown",
   "metadata": {},
   "source": [
    "    ASDASD\n",
    "   "
   ]
  },
  {
   "cell_type": "code",
   "execution_count": 28,
   "metadata": {},
   "outputs": [],
   "source": [
    "token_url = \"https://accounts.spotify.com/api/token\"\n",
    "method = \"POST\"\n",
    "\n",
    "token_data  = {\"grant_type\":\"client_credentials\"}\n",
    "token_headers = {\"Authorization\":f\"Basic {clients_creds_base64.decode()}\"}"
   ]
  },
  {
   "cell_type": "code",
   "execution_count": 29,
   "metadata": {},
   "outputs": [],
   "source": [
    "r = requests.post(token_url, data= token_data, headers= token_headers)"
   ]
  },
  {
   "cell_type": "code",
   "execution_count": 30,
   "metadata": {},
   "outputs": [
    {
     "name": "stdout",
     "output_type": "stream",
     "text": [
      "{'access_token': 'BQB9xfD1claZItXsbZokj1i22rBiNdj-2P6uWPIRe4KHzImBsarDl3fFHGCgwHcjozdmsfqiFaiUA3G0c3M', 'token_type': 'Bearer', 'expires_in': 3600, 'scope': ''}\n"
     ]
    }
   ],
   "source": [
    "print(r.json())"
   ]
  },
  {
   "cell_type": "code",
   "execution_count": 38,
   "metadata": {},
   "outputs": [
    {
     "data": {
      "text/plain": [
       "'BQB9xfD1claZItXsbZokj1i22rBiNdj-2P6uWPIRe4KHzImBsarDl3fFHGCgwHcjozdmsfqiFaiUA3G0c3M'"
      ]
     },
     "execution_count": 38,
     "metadata": {},
     "output_type": "execute_result"
    }
   ],
   "source": [
    "data = r.json()\n",
    "acces_token = data['access_token']\n",
    "acces_token"
   ]
  },
  {
   "cell_type": "code",
   "execution_count": 51,
   "metadata": {},
   "outputs": [],
   "source": [
    "auth = {\"Authorization\":f\"Bearer {acces_token}\"}"
   ]
  },
  {
   "cell_type": "code",
   "execution_count": 56,
   "metadata": {},
   "outputs": [],
   "source": [
    "query = urlencode({\"q\":'Virtual Riot',\"type\":\"artist\"})"
   ]
  },
  {
   "cell_type": "code",
   "execution_count": 57,
   "metadata": {},
   "outputs": [],
   "source": [
    "endpoint = \"https://api.spotify.com/v1/search\"\n",
    "lookup = f\"{endpoint}?{query}\""
   ]
  },
  {
   "cell_type": "code",
   "execution_count": 58,
   "metadata": {},
   "outputs": [],
   "source": [
    "busca = requests.get(lookup, headers=auth)"
   ]
  },
  {
   "cell_type": "code",
   "execution_count": 59,
   "metadata": {},
   "outputs": [
    {
     "data": {
      "text/plain": [
       "{'artists': {'href': 'https://api.spotify.com/v1/search?query=Virtual+Riot&type=artist&offset=0&limit=20',\n",
       "  'items': [{'external_urls': {'spotify': 'https://open.spotify.com/artist/4FXGRMSHh2JjHxVwS8dhH1'},\n",
       "    'followers': {'href': None, 'total': 263958},\n",
       "    'genres': ['brostep',\n",
       "     'complextro',\n",
       "     'dubstep',\n",
       "     'edm',\n",
       "     'electro house',\n",
       "     'electronic trap',\n",
       "     'filthstep',\n",
       "     'future bass',\n",
       "     'gaming edm'],\n",
       "    'href': 'https://api.spotify.com/v1/artists/4FXGRMSHh2JjHxVwS8dhH1',\n",
       "    'id': '4FXGRMSHh2JjHxVwS8dhH1',\n",
       "    'images': [{'height': 640,\n",
       "      'url': 'https://i.scdn.co/image/19404250b76aa398b4ff81a3117836adb063f311',\n",
       "      'width': 640},\n",
       "     {'height': 320,\n",
       "      'url': 'https://i.scdn.co/image/ce73e164878cdbd9e90e0dc790fe309a31a45ec8',\n",
       "      'width': 320},\n",
       "     {'height': 160,\n",
       "      'url': 'https://i.scdn.co/image/b9ff21bcf9e81e648d61a15ac03d7160dc9f4bb1',\n",
       "      'width': 160}],\n",
       "    'name': 'Virtual Riot',\n",
       "    'popularity': 59,\n",
       "    'type': 'artist',\n",
       "    'uri': 'spotify:artist:4FXGRMSHh2JjHxVwS8dhH1'}],\n",
       "  'limit': 20,\n",
       "  'next': None,\n",
       "  'offset': 0,\n",
       "  'previous': None,\n",
       "  'total': 1}}"
      ]
     },
     "execution_count": 59,
     "metadata": {},
     "output_type": "execute_result"
    }
   ],
   "source": [
    "busca.json()"
   ]
  },
  {
   "cell_type": "code",
   "execution_count": 60,
   "metadata": {},
   "outputs": [],
   "source": [
    "artista = busca.json()"
   ]
  },
  {
   "cell_type": "code",
   "execution_count": 61,
   "metadata": {},
   "outputs": [],
   "source": [
    "nombre = artista['artists']['items'][0]['name']"
   ]
  },
  {
   "cell_type": "code",
   "execution_count": 63,
   "metadata": {},
   "outputs": [],
   "source": [
    "prueba = pd.json_normalize(artista['artists']['items'])"
   ]
  },
  {
   "cell_type": "code",
   "execution_count": 64,
   "metadata": {},
   "outputs": [
    {
     "data": {
      "text/html": [
       "<div>\n",
       "<style scoped>\n",
       "    .dataframe tbody tr th:only-of-type {\n",
       "        vertical-align: middle;\n",
       "    }\n",
       "\n",
       "    .dataframe tbody tr th {\n",
       "        vertical-align: top;\n",
       "    }\n",
       "\n",
       "    .dataframe thead th {\n",
       "        text-align: right;\n",
       "    }\n",
       "</style>\n",
       "<table border=\"1\" class=\"dataframe\">\n",
       "  <thead>\n",
       "    <tr style=\"text-align: right;\">\n",
       "      <th></th>\n",
       "      <th>genres</th>\n",
       "      <th>href</th>\n",
       "      <th>id</th>\n",
       "      <th>images</th>\n",
       "      <th>name</th>\n",
       "      <th>popularity</th>\n",
       "      <th>type</th>\n",
       "      <th>uri</th>\n",
       "      <th>external_urls.spotify</th>\n",
       "      <th>followers.href</th>\n",
       "      <th>followers.total</th>\n",
       "    </tr>\n",
       "  </thead>\n",
       "  <tbody>\n",
       "    <tr>\n",
       "      <th>0</th>\n",
       "      <td>[brostep, complextro, dubstep, edm, electro ho...</td>\n",
       "      <td>https://api.spotify.com/v1/artists/4FXGRMSHh2J...</td>\n",
       "      <td>4FXGRMSHh2JjHxVwS8dhH1</td>\n",
       "      <td>[{'height': 640, 'url': 'https://i.scdn.co/ima...</td>\n",
       "      <td>Virtual Riot</td>\n",
       "      <td>59</td>\n",
       "      <td>artist</td>\n",
       "      <td>spotify:artist:4FXGRMSHh2JjHxVwS8dhH1</td>\n",
       "      <td>https://open.spotify.com/artist/4FXGRMSHh2JjHx...</td>\n",
       "      <td>None</td>\n",
       "      <td>263958</td>\n",
       "    </tr>\n",
       "  </tbody>\n",
       "</table>\n",
       "</div>"
      ],
      "text/plain": [
       "                                              genres  \\\n",
       "0  [brostep, complextro, dubstep, edm, electro ho...   \n",
       "\n",
       "                                                href                      id  \\\n",
       "0  https://api.spotify.com/v1/artists/4FXGRMSHh2J...  4FXGRMSHh2JjHxVwS8dhH1   \n",
       "\n",
       "                                              images          name  \\\n",
       "0  [{'height': 640, 'url': 'https://i.scdn.co/ima...  Virtual Riot   \n",
       "\n",
       "   popularity    type                                    uri  \\\n",
       "0          59  artist  spotify:artist:4FXGRMSHh2JjHxVwS8dhH1   \n",
       "\n",
       "                               external_urls.spotify followers.href  \\\n",
       "0  https://open.spotify.com/artist/4FXGRMSHh2JjHx...           None   \n",
       "\n",
       "   followers.total  \n",
       "0           263958  "
      ]
     },
     "execution_count": 64,
     "metadata": {},
     "output_type": "execute_result"
    }
   ],
   "source": [
    "prueba"
   ]
  },
  {
   "cell_type": "code",
   "execution_count": null,
   "metadata": {},
   "outputs": [],
   "source": []
  }
 ],
 "metadata": {
  "kernelspec": {
   "display_name": "Python 3.7 (tensorflow)",
   "language": "python",
   "name": "tensorflow"
  },
  "language_info": {
   "codemirror_mode": {
    "name": "ipython",
    "version": 3
   },
   "file_extension": ".py",
   "mimetype": "text/x-python",
   "name": "python",
   "nbconvert_exporter": "python",
   "pygments_lexer": "ipython3",
   "version": "3.7.7"
  }
 },
 "nbformat": 4,
 "nbformat_minor": 4
}
